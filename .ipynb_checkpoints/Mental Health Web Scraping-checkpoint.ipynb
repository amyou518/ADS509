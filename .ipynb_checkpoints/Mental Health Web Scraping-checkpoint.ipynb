{
 "cells": [
  {
   "cell_type": "code",
   "execution_count": 1,
   "id": "38b888fd",
   "metadata": {},
   "outputs": [],
   "source": [
    "import os\n",
    "import datetime\n",
    "import re\n",
    "import requests\n",
    "import time\n",
    "from bs4 import BeautifulSoup\n",
    "from collections import defaultdict, Counter\n",
    "import random\n",
    "\n",
    "import emoji\n",
    "import pandas as pd\n",
    "\n",
    "from collections import Counter, defaultdict\n",
    "from nltk.corpus import stopwords\n",
    "from wordcloud import WordCloud \n",
    "\n",
    "import string \n",
    "\n",
    "from string import punctuation\n",
    "\n",
    "from sklearn.feature_extraction.text import TfidfTransformer, CountVectorizer\n",
    "\n",
    "import tweepy"
   ]
  },
  {
   "cell_type": "code",
   "execution_count": 16,
   "id": "010b33be",
   "metadata": {},
   "outputs": [],
   "source": [
    "import praw\n",
    "\n",
    "# establish connection with reddit API\n",
    "\n",
    "reddit = praw.Reddit(\n",
    "    client_id=\"81TBuwGeFdL5ZfijNpLxNw\",\n",
    "    client_secret=\"fn2ztcn8ojr3vewO93h46nZ2YY47mw\",\n",
    "    user_agent=\"Academic_Winner_5303\",\n",
    ")"
   ]
  },
  {
   "cell_type": "code",
   "execution_count": 17,
   "id": "249d5887",
   "metadata": {},
   "outputs": [],
   "source": [
    "# specify the subreddit\n",
    "subreddit_name = 'mentalhealth'\n",
    "\n",
    "# fetch posts fromsubreddit\n",
    "subreddit = reddit.subreddit(subreddit_name)\n",
    "posts = subreddit.new(limit=10)  # Fetch the newest 10 posts"
   ]
  },
  {
   "cell_type": "code",
   "execution_count": 18,
   "id": "c4a45d14",
   "metadata": {},
   "outputs": [
    {
     "name": "stdout",
     "output_type": "stream",
     "text": [
      "Title: What’s wrong with me..\n",
      "Score: 1\n",
      "URL: https://www.reddit.com/r/mentalhealth/comments/1d4krl3/whats_wrong_with_me/\n",
      "\n",
      "Title: Very Existential and Afraid of Aging\n",
      "Score: 1\n",
      "URL: https://www.reddit.com/r/mentalhealth/comments/1d4kk8g/very_existential_and_afraid_of_aging/\n",
      "\n",
      "Title: One minute she hated me, the next she was polite?!\n",
      "Score: 1\n",
      "URL: https://www.reddit.com/r/mentalhealth/comments/1d4kgmb/one_minute_she_hated_me_the_next_she_was_polite/\n",
      "\n",
      "Title: A part of me still HATES being black, and wishes to have been born as any other race.\n",
      "Score: 1\n",
      "URL: https://www.reddit.com/r/mentalhealth/comments/1d4keyz/a_part_of_me_still_hates_being_black_and_wishes/\n",
      "\n",
      "Title: Sticking to a routine\n",
      "Score: 2\n",
      "URL: https://www.reddit.com/r/mentalhealth/comments/1d4kcj5/sticking_to_a_routine/\n",
      "\n",
      "Title: I’m struggling today.\n",
      "Score: 1\n",
      "URL: https://www.reddit.com/r/mentalhealth/comments/1d4k58j/im_struggling_today/\n",
      "\n",
      "Title: Had a panic attack a few days ago and ever since my emotions and thoughts have been all over the place. Has this happened to you? \n",
      "Score: 1\n",
      "URL: https://www.reddit.com/r/mentalhealth/comments/1d4jyqb/had_a_panic_attack_a_few_days_ago_and_ever_since/\n",
      "\n",
      "Title: How do I stop maladaptive daydreaming?\n",
      "Score: 1\n",
      "URL: https://www.reddit.com/r/mentalhealth/comments/1d4jw46/how_do_i_stop_maladaptive_daydreaming/\n",
      "\n",
      "Title: It’s my birthday and I lost everything today\n",
      "Score: 4\n",
      "URL: https://www.reddit.com/r/mentalhealth/comments/1d4jp1j/its_my_birthday_and_i_lost_everything_today/\n",
      "\n",
      "Title: Why do I need sadness?\n",
      "Score: 1\n",
      "URL: https://www.reddit.com/r/mentalhealth/comments/1d4jmmb/why_do_i_need_sadness/\n",
      "\n"
     ]
    }
   ],
   "source": [
    "# iterate over each post and print title, score, and URL\n",
    "for post in posts:\n",
    "    print(\"Title:\", post.title)\n",
    "    print(\"Score:\", post.score)\n",
    "    print(\"URL:\", post.url)\n",
    "    print()"
   ]
  },
  {
   "cell_type": "raw",
   "id": "07170c4f",
   "metadata": {},
   "source": [
    "# libaries used \n",
    "# ! pip install tweepy\n",
    "\n",
    "import tweepy"
   ]
  },
  {
   "cell_type": "raw",
   "id": "8e36fd22",
   "metadata": {},
   "source": [
    "import tweepy\n",
    "\n",
    "# Bearer token from your App within the Project\n",
    "bearer_token = 'AAAAAAAAAAAAAAAAAAAAAL08uAEAAAAAGKtc%2Bm8PvWX9GQVktRKKQ58ifMk%3DvlPZmiTPtR6Aguox0A4hWAkEe3CvkG3WdybBLo7ZxzG3x5keIb'\n",
    "\n",
    "# Create a client\n",
    "client = tweepy.Client(bearer_token=bearer_token)\n",
    "\n",
    "response = client.search_all_tweets(query=\"mental health\", max_results=10)"
   ]
  },
  {
   "cell_type": "raw",
   "id": "4b21c0fd",
   "metadata": {},
   "source": [
    "import requests\n",
    "import tweepy\n",
    "\n",
    "# Your credentials\n",
    "client_id = 'RVh0dy02QzNjTmJCZEVRTGI5Y2w6MTpjaQ'\n",
    "client_secret = 'U0o_W-nkpAwcXSFUqu7EEdh-mbSsEP6VIEtGYSilkz8ZGJElqe'\n",
    "\n",
    "# Step 1: Obtain Bearer Token\n",
    "def get_bearer_token(client_id, client_secret):\n",
    "    url = 'https://api.twitter.com/oauth2/token'\n",
    "    auth = (client_id, client_secret)\n",
    "    data = {'grant_type': 'client_credentials'}\n",
    "    \n",
    "    response = requests.post(url, auth=auth, data=data)\n",
    "    if response.status_code == 200:\n",
    "        return response.json()['access_token']\n",
    "    else:\n",
    "        raise Exception(f\"Cannot get a Bearer token: {response.status_code}, {response.text}\")\n",
    "\n",
    "# Obtain the Bearer Token\n",
    "bearer_token = get_bearer_token(client_id, client_secret)\n",
    "\n",
    "# Step 2: Create Tweepy Client\n",
    "client = tweepy.Client(bearer_token=bearer_token)\n",
    "\n",
    "# Step 3: Fetch Tweets Using the Bearer Token\n",
    "def search_tweets(query, count):\n",
    "    try:\n",
    "        # Search for recent tweets using the query\n",
    "        response = client.search_recent_tweets(query=query, max_results=count, tweet_fields=['created_at', 'author_id', 'text'])\n",
    "        for tweet in response.data:\n",
    "            print(f\"Tweet ID: {tweet.id} - Tweet Text: {tweet.text}\")\n",
    "    except tweepy.TweepyException as e:\n",
    "        print(f\"An error occurred: {e}\")\n",
    "\n",
    "# Replace with the actual query you want to search tweets for\n",
    "search_tweets(\"Python\", 10)"
   ]
  },
  {
   "cell_type": "raw",
   "id": "01fbde00",
   "metadata": {},
   "source": [
    "import tweepy\n",
    "\n",
    "# Bearer token from your App within the Project\n",
    "bearer_token = 'AAAAAAAAAAAAAAAAAAAAAL08uAEAAAAAGKtc%2Bm8PvWX9GQVktRKKQ58ifMk%3DvlPZmiTPtR6Aguox0A4hWAkEe3CvkG3WdybBLo7ZxzG3x5keIb'\n",
    "\n",
    "# Create a client\n",
    "client = tweepy.Client(bearer_token=bearer_token)\n",
    "\n",
    "def fetch_tweets_v2(username, count):\n",
    "    try:\n",
    "        # Get user by username\n",
    "        response = client.get_user(username=username)\n",
    "        user_id = response.data.id\n",
    "\n",
    "        # Fetch tweets by user ID\n",
    "        tweets = client.get_users_tweets(id=user_id, max_results=count)\n",
    "        for tweet in tweets.data:\n",
    "            print(tweet.text)\n",
    "    except tweepy.TweepyException as e:\n",
    "        print(f\"An error occurred: {e}\")\n",
    "\n",
    "# Replace with the actual username you want to fetch tweets from\n",
    "fetch_tweets_v2(\"jack\", 5)"
   ]
  },
  {
   "cell_type": "raw",
   "id": "3ef722b4",
   "metadata": {},
   "source": [
    "import tweepy\n",
    "\n",
    "# Twitter API credentials\n",
    "bearer_token = 'AAAAAAAAAAAAAAAAAAAAAL08uAEAAAAAGKtc%2Bm8PvWX9GQVktRKKQ58ifMk%3DvlPZmiTPtR6Aguox0A4hWAkEe3CvkG3WdybBLo7ZxzG3x5keIb'\n",
    "\n",
    "# Authenticate using bearer token\n",
    "client = tweepy.Client(bearer_token=bearer_token)\n",
    "\n",
    "try:\n",
    "    # Define query and search recent tweets\n",
    "    query = '#mentalhealth'\n",
    "    response = client.search_recent_tweets(query=query, max_results=10)\n",
    "\n",
    "    # Check if the response contains data\n",
    "    if response.data:\n",
    "        # Print the tweets\n",
    "        for tweet in response.data:\n",
    "            print(f\"User: {tweet.author_id}, Tweet: {tweet.text}\\n\")\n",
    "    else:\n",
    "        print(\"No tweets found for the query.\")\n",
    "except tweepy.TweepyException as e:\n",
    "    print(f\"Error: {e}\")"
   ]
  },
  {
   "cell_type": "raw",
   "id": "22b36617",
   "metadata": {},
   "source": [
    "# Twitter API credentials\n",
    "api_key = 'QQhkF8zhRRSCWMsJC1TEH2NeP'\n",
    "api_key_secret = 'nRmhM5jZm9qRMyulctTooEDwZL8fQssyYfkYbYgHnIxcxj4MNJ'\n",
    "#access_token = '1794084207540731904-Va4eSPzbs9mzDCSW4uTP4wSLcZCDr6'\n",
    "#access_token_secret = '8izQaCcwpbSfIIs8xGLptR9rhqzGnw40u4eZx73UA0B6q'\n",
    "bearer_token = 'AAAAAAAAAAAAAAAAAAAAAL08uAEAAAAAGKtc%2Bm8PvWX9GQVktRKKQ58ifMk%3DvlPZmiTPtR6Aguox0A4hWAkEe3CvkG3WdybBLo7ZxzG3x5keIb'\n",
    "\n",
    "# Authenticate to Twitter\n",
    "client = tweepy.Client(bearer_token=bearer_token, \n",
    "                       consumer_key=api_key, \n",
    "                       consumer_secret=api_key_secret) \n",
    "                       #access_token=access_token, \n",
    "                       #access_token_secret=access_token_secret)\n",
    "\n",
    "# Define query and search tweets\n",
    "query = '#mentalhealth'\n",
    "tweets = client.search_recent_tweets(query=query, max_results=10)\n",
    "\n",
    "# Print the tweets\n",
    "for tweet in tweets.data:\n",
    "    print(f\"User: {tweet.author_id}, Tweet: {tweet.text}\\n\")\n"
   ]
  },
  {
   "cell_type": "raw",
   "id": "1987f425",
   "metadata": {},
   "source": [
    "# ! pip install python-twitter"
   ]
  },
  {
   "cell_type": "raw",
   "id": "9501f0fa",
   "metadata": {},
   "source": [
    "import twitter\n",
    "\n",
    "# Twitter API credentials\n",
    "api_key = 'iRhFfdtcAsf30lCVd31r1EC8Q'\n",
    "api_key_secret = 'W24l8PDy4hR7R8XYHX9TAGlKaPKPwdr1gOqwniRhkyUt27jTG7'\n",
    "access_token = '1794084207540731904-Va4eSPzbs9mzDCSW4uTP4wSLcZCDr6'\n",
    "access_token_secret = '8izQaCcwpbSfIIs8xGLptR9rhqzGnw40u4eZx73UA0B6q'\n",
    "\n",
    "# Authenticate to Twitter\n",
    "api = twitter.Api(consumer_key=api_key,\n",
    "                  consumer_secret=api_key_secret,\n",
    "                  access_token_key=access_token,\n",
    "                  access_token_secret=access_token_secret)\n",
    "\n",
    "# Search recent tweets with a specific query\n",
    "results = api.GetSearch(term=\"mentalhealth\", count=10)\n",
    "for tweet in results:\n",
    "    print(tweet.text)"
   ]
  },
  {
   "cell_type": "raw",
   "id": "478ae2e5",
   "metadata": {},
   "source": [
    "# pip install TwitterAPI"
   ]
  },
  {
   "cell_type": "raw",
   "id": "97b35345",
   "metadata": {},
   "source": [
    "from TwitterAPI import TwitterAPI\n",
    "\n",
    "# Twitter API credentials\n",
    "api_key = 'iRhFfdtcAsf30lCVd31r1EC8Q'\n",
    "api_key_secret = 'W24l8PDy4hR7R8XYHX9TAGlKaPKPwdr1gOqwniRhkyUt27jTG7'\n",
    "access_token = '1794084207540731904-Va4eSPzbs9mzDCSW4uTP4wSLcZCDr6'\n",
    "access_token_secret = '8izQaCcwpbSfIIs8xGLptR9rhqzGnw40u4eZx73UA0B6q'\n",
    "\n",
    "# Authenticate to Twitter\n",
    "api = TwitterAPI(api_key, api_key_secret, access_token, access_token_secret)\n",
    "\n",
    "# Search recent tweets with a specific query\n",
    "query = '#mentalhealth'\n",
    "r = api.request('search/tweets', {'q': query, 'count': 10})\n",
    "\n",
    "for item in r:\n",
    "    print(item['text'])"
   ]
  }
 ],
 "metadata": {
  "kernelspec": {
   "display_name": "Python 3 (ipykernel)",
   "language": "python",
   "name": "python3"
  },
  "language_info": {
   "codemirror_mode": {
    "name": "ipython",
    "version": 3
   },
   "file_extension": ".py",
   "mimetype": "text/x-python",
   "name": "python",
   "nbconvert_exporter": "python",
   "pygments_lexer": "ipython3",
   "version": "3.9.13"
  }
 },
 "nbformat": 4,
 "nbformat_minor": 5
}
